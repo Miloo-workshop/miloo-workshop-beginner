{
 "cells": [
  {
   "cell_type": "markdown",
   "metadata": {
    "id": "5NJNvzVraPZc"
   },
   "source": [
    "# Diabetes Prediction Using Machine Learning \n",
    "This is module of Miloo Workshop : **Diabetes Prediction Using Machine Learning** . \n",
    "\n",
    "This module will give example of how to build model to predict diabetes patient. Start from importing necessary library, reading and manipulating data, training and testing model, and evaluate model.\n",
    "\n",
    "Please refer to this link for more info regarding the dataset : https://www.kaggle.com/code/vincentlugat/pima-indians-diabetes-eda-prediction-0-906/data"
   ]
  },
  {
   "cell_type": "markdown",
   "metadata": {
    "id": "tezKH1iAbsgs"
   },
   "source": [
    "## 1. Import necessary Library\n",
    "For this practice, we use pandas, numpy, seaborn, scikit-learn, and matplotlib"
   ]
  },
  {
   "cell_type": "code",
   "execution_count": null,
   "metadata": {
    "id": "gYj-MHugbLHo"
   },
   "outputs": [],
   "source": [
    "import numpy as np\n",
    "import pandas as pd\n",
    "from matplotlib import pyplot as plt\n"
   ]
  },
  {
   "cell_type": "markdown",
   "metadata": {
    "id": "FI2qJzmwqEkH"
   },
   "source": [
    "**Age Categorization**\n",
    "1. Boomers : 58-82\n",
    "2. Gen X : 46-57\n",
    "3. Millenials : 27-45\n",
    "4. Gen Z : 7-26"
   ]
  },
  {
   "cell_type": "code",
   "execution_count": null,
   "metadata": {
    "id": "INQkyN_02shf"
   },
   "outputs": [],
   "source": [
    "### age categorization pythonic way\n",
    "def categorize_age(age):\n",
    "  try:\n",
    "    age = int(age)\n",
    "\n",
    "    if age >= 7 and age <= 26:\n",
    "      return \"Gen Z\"\n",
    "    elif age >= 27 and age <= 45:\n",
    "      return \"Millennials\"\n",
    "    elif age >= 46 and age <= 57:\n",
    "      return \"Gen X\"\n",
    "    elif age >= 58 and age <= 82:\n",
    "      return \"Boomers\"\n",
    "    \n",
    "  except:\n",
    "    return np.nan"
   ]
  },
  {
   "cell_type": "markdown",
   "metadata": {
    "id": "6EHCtG6ppSmn"
   },
   "source": [
    "**BMI Categorization** \n",
    "1. Underweight : 0-18.5\n",
    "2. Normal : 18.5-22.9\n",
    "3. Overweight : 23-24.9\n",
    "4. Obesity Rank 1 : 25-29.9\n",
    "5. Obesity Rank 2 : 30-100"
   ]
  },
  {
   "cell_type": "code",
   "execution_count": null,
   "metadata": {
    "id": "RMldBzuW3j_M"
   },
   "outputs": [],
   "source": [
    "### bmi categorization pythonic way\n",
    "def categorize_bmi(bmi):\n",
    "  try:\n",
    "    bmi = float(bmi)\n",
    "\n",
    "    if bmi >= 0 and bmi < 18.5:\n",
    "      return \"Underweight\"\n",
    "    elif bmi >= 18.5 and bmi < 23:\n",
    "      return \"Normal\"\n",
    "    elif bmi >= 23 and bmi < 25:\n",
    "      return \"Overweight\"\n",
    "    elif bmi >= 25 and bmi < 30:\n",
    "      return \"Obesity Rank 1\"\n",
    "    elif bmi >= 30 and bmi < 100:\n",
    "      return \"Obesity Rank 2\"\n",
    "    \n",
    "  except:\n",
    "    return np.nan"
   ]
  },
  {
   "cell_type": "markdown",
   "metadata": {
    "id": "D3j3W3bfe0uz"
   },
   "source": [
    "## 2. Read data \n",
    "This section will focus on importing/loading data to the notebook from github"
   ]
  },
  {
   "cell_type": "markdown",
   "metadata": {
    "id": "EhL6mRAlyM_u"
   },
   "source": [
    "### 2.1 Read data from local directory or drive"
   ]
  },
  {
   "cell_type": "code",
   "execution_count": null,
   "metadata": {
    "colab": {
     "base_uri": "https://localhost:8080/"
    },
    "id": "WdzZiSJ0psAy",
    "outputId": "f32156f8-5348-4b2c-b039-c34455074ac0"
   },
   "outputs": [],
   "source": [
    "from google.colab import drive\n",
    "drive.mount('/content/drive')"
   ]
  },
  {
   "cell_type": "code",
   "execution_count": null,
   "metadata": {
    "colab": {
     "base_uri": "https://localhost:8080/",
     "height": 363
    },
    "id": "3To3CO7ieuc_",
    "outputId": "53d13d3a-af21-4873-bca9-e03f1c9cbb9f"
   },
   "outputs": [],
   "source": [
    "df = pd.read_csv(\"/content/drive/MyDrive/Miloo/Workshop/Miloo Bootcamp Beginer/diabetes.csv\")\n",
    "df.head(10)"
   ]
  },
  {
   "cell_type": "markdown",
   "metadata": {
    "id": "qBHYBLPAyTs8"
   },
   "source": [
    "### 2.2 Read data from git"
   ]
  },
  {
   "cell_type": "code",
   "execution_count": null,
   "metadata": {
    "colab": {
     "base_uri": "https://localhost:8080/"
    },
    "id": "i3ToCH6pfcH0",
    "outputId": "98e9569a-8936-43fa-82f0-08c5662c40cc"
   },
   "outputs": [],
   "source": [
    "!wget https://raw.githubusercontent.com/Miloo-workshop/miloo-workshop-beginner/master/diabetes.csv "
   ]
  },
  {
   "cell_type": "code",
   "execution_count": null,
   "metadata": {
    "colab": {
     "base_uri": "https://localhost:8080/",
     "height": 423
    },
    "id": "NCOpNfbRajyq",
    "outputId": "1411ddc2-aa34-4d15-d14e-91662e55a598"
   },
   "outputs": [],
   "source": [
    "df = pd.read_csv(\"diabetes.csv\")\n",
    "df"
   ]
  },
  {
   "cell_type": "markdown",
   "metadata": {
    "id": "LqkVQIrHnYKa"
   },
   "source": [
    "## 3. Data Understanding\n",
    "\n",
    "This section will show you how to understand dataset sircumstances such as how many null values, minimum and maximum value of each feature, and other statistical condition of data\n"
   ]
  },
  {
   "cell_type": "markdown",
   "metadata": {
    "id": "G_pBD7wyot1-"
   },
   "source": [
    "### 3.1 Check Data Info"
   ]
  },
  {
   "cell_type": "code",
   "execution_count": null,
   "metadata": {
    "colab": {
     "base_uri": "https://localhost:8080/"
    },
    "id": "iRLtAIHXpTfZ",
    "outputId": "de3965a9-9624-4121-85de-4fad4b14d3b0"
   },
   "outputs": [],
   "source": [
    "df.info()"
   ]
  },
  {
   "cell_type": "markdown",
   "metadata": {
    "id": "c2bazS05onvT"
   },
   "source": [
    "### 3.2 Check Null Data"
   ]
  },
  {
   "cell_type": "code",
   "execution_count": null,
   "metadata": {
    "colab": {
     "base_uri": "https://localhost:8080/"
    },
    "id": "hQFST8w0fc7G",
    "outputId": "ade5ae2b-4c49-485c-b5c4-11b35022a1d7"
   },
   "outputs": [],
   "source": [
    "df.count()"
   ]
  },
  {
   "cell_type": "markdown",
   "metadata": {
    "id": "PN0QkI9Ori0w"
   },
   "source": [
    "### 3.3 Statistical Description"
   ]
  },
  {
   "cell_type": "code",
   "execution_count": null,
   "metadata": {
    "colab": {
     "base_uri": "https://localhost:8080/",
     "height": 300
    },
    "id": "IYj5OE_qrxGB",
    "outputId": "d39fca5f-8744-425f-b4ab-53c213773d14"
   },
   "outputs": [],
   "source": [
    "df.describe()"
   ]
  },
  {
   "cell_type": "markdown",
   "metadata": {
    "id": "ZpTIZqEls6Mw"
   },
   "source": [
    "## 4. Feature Engineering\n",
    "Now, we will manipulate feature to be able to use for machine learning modeling such as set nominal data to categorical, one hot encode for categorical feature, and select feature to be used for modeling"
   ]
  },
  {
   "cell_type": "markdown",
   "metadata": {
    "id": "1t85vO81kDPx"
   },
   "source": [
    "### 4.1 Uderstanding Features Type"
   ]
  },
  {
   "cell_type": "code",
   "execution_count": null,
   "metadata": {
    "id": "TaRHSORV7eVl"
   },
   "outputs": [],
   "source": [
    "numerical_features = ['Pregnancies',\n",
    " 'Glucose',\n",
    " 'BloodPressure',\n",
    " 'SkinThickness',\n",
    " 'Insulin',\n",
    " 'BMI',\n",
    " 'DiabetesPedigreeFunction',\n",
    " 'Age']\n",
    "categotical_features = ['Outcome','Manipulated_Age','Manipulated_BMI']"
   ]
  },
  {
   "cell_type": "markdown",
   "metadata": {
    "id": "xQIeBxXltQ-y"
   },
   "source": [
    "### 4.2 Data Manipulation\n",
    "\n",
    "Set Nominal data to categorical"
   ]
  },
  {
   "cell_type": "markdown",
   "metadata": {
    "id": "5kldPIEAtjI9"
   },
   "source": [
    "##### Column Age\n",
    "\n",
    "\n",
    "\n"
   ]
  },
  {
   "cell_type": "code",
   "execution_count": null,
   "metadata": {
    "id": "GrAF_7gg49aF"
   },
   "outputs": [],
   "source": [
    "df[\"Manipulated_Age\"] = df[\"Age\"].apply(categorize_age)"
   ]
  },
  {
   "cell_type": "markdown",
   "metadata": {
    "id": "WrQactHKtrRN"
   },
   "source": [
    "##### Column BMI"
   ]
  },
  {
   "cell_type": "code",
   "execution_count": null,
   "metadata": {
    "id": "yh_I4laq5Npl"
   },
   "outputs": [],
   "source": [
    "df[\"Manipulated_BMI\"] = df[\"BMI\"].apply(categorize_bmi)"
   ]
  },
  {
   "cell_type": "markdown",
   "metadata": {
    "id": "sgscVmKNt1l2"
   },
   "source": [
    "##### Column Outcome"
   ]
  },
  {
   "cell_type": "code",
   "execution_count": null,
   "metadata": {
    "colab": {
     "base_uri": "https://localhost:8080/",
     "height": 423
    },
    "id": "cHKDC5uzw2RZ",
    "outputId": "37f161c3-2260-49de-e062-7ca0bacd4b91"
   },
   "outputs": [],
   "source": [
    "df"
   ]
  },
  {
   "cell_type": "code",
   "execution_count": null,
   "metadata": {
    "colab": {
     "base_uri": "https://localhost:8080/"
    },
    "id": "avb5HMp956BR",
    "outputId": "fa00bc43-e51e-4947-e805-90ee76b814e0"
   },
   "outputs": [],
   "source": [
    "df.columns.to_list()"
   ]
  },
  {
   "cell_type": "code",
   "execution_count": null,
   "metadata": {
    "colab": {
     "base_uri": "https://localhost:8080/"
    },
    "id": "PQGnIDlz6Xnx",
    "outputId": "9a72210b-82fe-47ea-adff-fb04690d3f78"
   },
   "outputs": [],
   "source": [
    "from sklearn.preprocessing import LabelEncoder\n",
    "le = LabelEncoder()\n",
    "le.fit(df[\"Manipulated_Age\"])\n",
    "le.classes_"
   ]
  },
  {
   "cell_type": "code",
   "execution_count": null,
   "metadata": {
    "id": "J3JyN_ARXx4o"
   },
   "outputs": [],
   "source": [
    "le_age = le.transform(df[\"Manipulated_Age\"])"
   ]
  },
  {
   "cell_type": "code",
   "execution_count": null,
   "metadata": {
    "id": "jbbYWbS_nXdf"
   },
   "outputs": [],
   "source": [
    "# le.inverse_transform(le_age)"
   ]
  },
  {
   "cell_type": "code",
   "execution_count": null,
   "metadata": {
    "id": "2vKz8raroEEF"
   },
   "outputs": [],
   "source": [
    "le_BMI = le.fit_transform(df['Manipulated_BMI'])\n",
    "# le_BMI"
   ]
  },
  {
   "cell_type": "code",
   "execution_count": null,
   "metadata": {
    "id": "rEHL8V_LoRov"
   },
   "outputs": [],
   "source": [
    "# le.inverse_transform(le_BMI)"
   ]
  },
  {
   "cell_type": "code",
   "execution_count": null,
   "metadata": {
    "id": "BKVmgGDfobtO"
   },
   "outputs": [],
   "source": [
    "# ad Labeled_features to dataframe\n",
    "df['le_BMI'] = le_BMI\n",
    "df['le_age'] = le_age"
   ]
  },
  {
   "cell_type": "code",
   "execution_count": null,
   "metadata": {
    "colab": {
     "base_uri": "https://localhost:8080/",
     "height": 423
    },
    "id": "ONoqk_-lotMK",
    "outputId": "f5d50fec-c7f5-4740-bb15-c2c96953847a"
   },
   "outputs": [],
   "source": [
    "df"
   ]
  },
  {
   "cell_type": "markdown",
   "metadata": {
    "id": "8Va0OnGet9Yy"
   },
   "source": [
    "### 4.3 Data Selection\n",
    "\n",
    "Selected Data for modeling"
   ]
  },
  {
   "cell_type": "code",
   "execution_count": null,
   "metadata": {
    "colab": {
     "base_uri": "https://localhost:8080/",
     "height": 423
    },
    "id": "AkMZia8WhGo6",
    "outputId": "1fee462f-a718-4dc8-fd96-c32a20a94cab"
   },
   "outputs": [],
   "source": [
    "selected_features = ['Pregnancies','Glucose','BloodPressure','SkinThickness','Insulin','DiabetesPedigreeFunction','le_BMI','le_age']\n",
    "target_features = ['Outcome']\n",
    "selected_df =  df[selected_features+target_features]\n",
    "selected_df"
   ]
  },
  {
   "cell_type": "markdown",
   "metadata": {
    "id": "kFxSj8FfyZR2"
   },
   "source": [
    "## 5. Model Creation\n",
    "This section will focus on how we train, test, and evaluate the machine learning model"
   ]
  },
  {
   "cell_type": "markdown",
   "metadata": {
    "id": "4djiBmfLykK3"
   },
   "source": [
    "### 5.1 Train Test Data Selection"
   ]
  },
  {
   "cell_type": "code",
   "execution_count": null,
   "metadata": {
    "id": "SnkMl_uprMiy"
   },
   "outputs": [],
   "source": [
    "# set X for feaatures, y for target\n",
    "\n",
    "X = df[selected_features]\n",
    "y = df[target_features]\n",
    "\n",
    "from sklearn.model_selection import train_test_split\n",
    "X_train, X_test, y_train, y_test = train_test_split(X, y, test_size=0.33, random_state=42)"
   ]
  },
  {
   "cell_type": "markdown",
   "metadata": {
    "id": "v9rl54JizSzK"
   },
   "source": [
    "##### Training Model"
   ]
  },
  {
   "cell_type": "code",
   "execution_count": null,
   "metadata": {
    "colab": {
     "base_uri": "https://localhost:8080/"
    },
    "id": "eFSY34FyvMkR",
    "outputId": "ab8ddcc1-0469-46cf-ae5f-166c2e1cc8d6"
   },
   "outputs": [],
   "source": [
    "from sklearn.tree import DecisionTreeClassifier\n",
    "from sklearn import tree\n",
    "\n",
    "clf = DecisionTreeClassifier(max_leaf_nodes=6, random_state=0)\n",
    "clf.fit(X_train, y_train)"
   ]
  },
  {
   "cell_type": "code",
   "execution_count": null,
   "metadata": {
    "colab": {
     "base_uri": "https://localhost:8080/"
    },
    "id": "VakojawkZhjj",
    "outputId": "7f0a14ae-56aa-4a24-9848-7f07bf9144a7"
   },
   "outputs": [],
   "source": [
    "text_representation = tree.export_text(clf,feature_names=list(df[selected_features].columns))\n",
    "print(text_representation)"
   ]
  },
  {
   "cell_type": "code",
   "execution_count": null,
   "metadata": {
    "colab": {
     "base_uri": "https://localhost:8080/",
     "height": 845
    },
    "id": "pZn3zxeTvcln",
    "outputId": "a760b86b-573a-490a-cc35-7fd6e065ec20"
   },
   "outputs": [],
   "source": [
    "# tree.plot_tree(clf)\n",
    "# plt.show()\n",
    "\n",
    "fig = plt.figure(figsize=(25,15))\n",
    "_ = tree.plot_tree(clf, \n",
    "                   feature_names=list(df[selected_features].columns),  \n",
    "                  #  class_names=list(df[target_features].columns),\n",
    "                   rounded=True,\n",
    "                   filled=True)"
   ]
  },
  {
   "cell_type": "markdown",
   "metadata": {
    "id": "DRa7xn-CzlvX"
   },
   "source": [
    "##### Test Model"
   ]
  },
  {
   "cell_type": "code",
   "execution_count": null,
   "metadata": {
    "id": "mutm-lOYwEcP"
   },
   "outputs": [],
   "source": [
    "# clf.predict_log_proba(X_test)"
   ]
  },
  {
   "cell_type": "code",
   "execution_count": null,
   "metadata": {
    "id": "WKu_6tBhwW5F"
   },
   "outputs": [],
   "source": [
    "y_true = y_test\n",
    "y_pred = clf.predict(X_test)"
   ]
  },
  {
   "cell_type": "markdown",
   "metadata": {
    "id": "CGuM2uLYzitb"
   },
   "source": [
    "##### Evaluate model "
   ]
  },
  {
   "cell_type": "code",
   "execution_count": null,
   "metadata": {
    "colab": {
     "base_uri": "https://localhost:8080/",
     "height": 278
    },
    "id": "eDfZhyWGGRYX",
    "outputId": "51727be8-5514-4e57-dc7e-ad47b7c4ac19"
   },
   "outputs": [],
   "source": [
    "from sklearn.metrics import ConfusionMatrixDisplay\n",
    "ConfusionMatrixDisplay.from_estimator(clf, X_test, y_test)\n",
    "plt.show()"
   ]
  },
  {
   "cell_type": "code",
   "execution_count": null,
   "metadata": {
    "colab": {
     "base_uri": "https://localhost:8080/",
     "height": 278
    },
    "id": "bfXpiAOU_FxA",
    "outputId": "1320a174-f427-4786-82b5-bb2a94186eea"
   },
   "outputs": [],
   "source": [
    "from sklearn.metrics import ConfusionMatrixDisplay\n",
    "ConfusionMatrixDisplay.from_predictions(y_test, y_pred)\n",
    "plt.show()"
   ]
  },
  {
   "cell_type": "code",
   "execution_count": null,
   "metadata": {
    "colab": {
     "base_uri": "https://localhost:8080/"
    },
    "id": "cZP5yRQ2vzlt",
    "outputId": "21549920-0c7f-4b1d-ce42-4e4aba6dc662"
   },
   "outputs": [],
   "source": [
    "from sklearn.metrics import accuracy_score\n",
    "accuracy_score(y_true, y_pred)"
   ]
  },
  {
   "cell_type": "code",
   "execution_count": null,
   "metadata": {
    "colab": {
     "base_uri": "https://localhost:8080/"
    },
    "id": "FEKZnF_6MJd3",
    "outputId": "cc0009e3-83ab-464d-8dfd-c6fb136bff79"
   },
   "outputs": [],
   "source": [
    "from sklearn.metrics import classification_report, confusion_matrix\n",
    "\n",
    "print(confusion_matrix(y_true, y_pred))\n",
    "print(classification_report(y_true,y_pred))"
   ]
  },
  {
   "cell_type": "code",
   "execution_count": null,
   "metadata": {
    "colab": {
     "base_uri": "https://localhost:8080/"
    },
    "id": "Him0psri9zgT",
    "outputId": "2f96c827-0de3-4dc5-fea6-fa9ac6a4c91c"
   },
   "outputs": [],
   "source": [
    "from sklearn.metrics import f1_score\n",
    "print(\"f1_macro     = \",f1_score(y_true, y_pred, average='macro'))\n",
    "print(\"f1_micro     = \",f1_score(y_true, y_pred, average='micro'))\n",
    "print(\"f1_weighted  = \",f1_score(y_true, y_pred, average='weighted'))\n"
   ]
  },
  {
   "cell_type": "markdown",
   "metadata": {
    "id": "mLBtxNV2zwjF"
   },
   "source": [
    "## 5. Conclusion"
   ]
  },
  {
   "cell_type": "markdown",
   "metadata": {
    "id": "-DVvzUBKl_a7"
   },
   "source": [
    "Based on our practice, Here are what we learn :\n",
    "1. To be able to build model, we have to know data condition\n",
    "2. Do data manipulation if it is necessary\n",
    "3. Feature selection is used to filter which feature that necessary to use\n",
    "4. Modeling process consist of :\n",
    "   - Training \\: Model learn pattern of training data to predict outcomes\n",
    "   - Testing \\: Model predict new data after training process\n",
    "   - Evaluation \\: Measure model performance whether its performance is good or bad\n"
   ]
  }
 ],
 "metadata": {
  "colab": {
   "collapsed_sections": [],
   "name": "Machine Learning Modeling.ipynb",
   "provenance": [],
   "toc_visible": true
  },
  "kernelspec": {
   "display_name": "Python 3",
   "language": "python",
   "name": "python3"
  },
  "language_info": {
   "codemirror_mode": {
    "name": "ipython",
    "version": 3
   },
   "file_extension": ".py",
   "mimetype": "text/x-python",
   "name": "python",
   "nbconvert_exporter": "python",
   "pygments_lexer": "ipython3",
   "version": "3.8.3"
  }
 },
 "nbformat": 4,
 "nbformat_minor": 1
}
